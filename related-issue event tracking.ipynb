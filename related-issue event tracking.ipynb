{
 "cells": [
  {
   "cell_type": "code",
   "execution_count": 1,
   "metadata": {},
   "outputs": [],
   "source": [
    "import os\n",
    "import json\n",
    "import re\n",
    "import string\n",
    "import pandas as pd\n",
    "import numpy as np\n",
    "from collections import Counter"
   ]
  },
  {
   "cell_type": "code",
   "execution_count": 56,
   "metadata": {},
   "outputs": [],
   "source": [
    "def lemma_NER(ner_list):    \n",
    "    punc = '!\"#$%&\\'()*+,-/:;<=>?@[\\\\]^_`{|}~'\n",
    "    punc += \"“”’\"\n",
    "    ner_list = [word.translate(word.maketrans(punc, \" \"*len(punc))).strip() for word in ner_list]\n",
    "    \n",
    "    except_set = ['(yonhap)', 'yonhap', '', 'the', 'i', '000', 'south korea',\n",
    "                  'we', 'north korea', 'kim', 'park', 'us', 'yonhap the']\n",
    "    ner_list = [x for x in ner_list if x not in except_set]\n",
    "    \n",
    "    return ner_list\n",
    "\n",
    "def extractNER(df):\n",
    "    person = list(df['Person'])\n",
    "    organization = list(df['Organization'])\n",
    "    place = list(df['Geographical Entity'])\n",
    "\n",
    "    person_list = []\n",
    "    organization_list = []\n",
    "    place_list = []\n",
    "\n",
    "    for x in person:\n",
    "        if type(x) == str:\n",
    "            person_list += x.split(',')\n",
    "    \n",
    "    for x in organization:\n",
    "        if type(x) == str:\n",
    "            organization_list += x.split(',')\n",
    "    \n",
    "    for x in place:\n",
    "        if type(x) == str:\n",
    "            place_list += x.split(',')\n",
    "    \n",
    "    person_list = lemma_NER(person_list)\n",
    "    organization_list = lemma_NER(organization_list)\n",
    "    place_list = lemma_NER(place_list)\n",
    "\n",
    "    person = Counter(person_list).most_common(1)[0][0]\n",
    "    organization = Counter(organization_list).most_common(1)[0][0]\n",
    "    place = Counter(place_list).most_common(1)[0][0]\n",
    "\n",
    "    return person, organization, place"
   ]
  },
  {
   "cell_type": "code",
   "execution_count": 3,
   "metadata": {},
   "outputs": [],
   "source": [
    "datapath = 'Data/news_issue/rem_issue.csv'"
   ]
  },
  {
   "cell_type": "code",
   "execution_count": 6,
   "metadata": {},
   "outputs": [],
   "source": [
    "issue_list = [0,1,2,3,4,5,6,7,8]\n",
    "event_list = [0,1,2,3,4,5]"
   ]
  },
  {
   "cell_type": "code",
   "execution_count": 19,
   "metadata": {},
   "outputs": [],
   "source": [
    "issue = 1"
   ]
  },
  {
   "cell_type": "code",
   "execution_count": 4,
   "metadata": {},
   "outputs": [],
   "source": [
    "df = pd.read_csv(datapath)"
   ]
  },
  {
   "cell_type": "code",
   "execution_count": 22,
   "metadata": {},
   "outputs": [],
   "source": [
    "df_issue = df[df['Issue'] == issue]"
   ]
  },
  {
   "cell_type": "code",
   "execution_count": 62,
   "metadata": {},
   "outputs": [
    {
     "name": "stdout",
     "output_type": "stream",
     "text": [
      "Event 0\n",
      "- Person       : lee\n",
      "- Organization : asean\n",
      "- Place        : korea\n",
      "\n",
      "Event 1\n",
      "- Person       : lee\n",
      "- Organization : singapore\n",
      "- Place        : seoul\n",
      "\n",
      "Event 2\n",
      "- Person       : ock hyun ju  laeticia\n",
      "- Organization : oecd\n",
      "- Place        : korea\n",
      "\n",
      "Event 3\n",
      "- Person       : lee\n",
      "- Organization : incheon international airport\n",
      "- Place        : seoul\n",
      "\n",
      "Event 4\n",
      "- Person       : lee\n",
      "- Organization : health ministry\n",
      "- Place        : korea\n",
      "\n",
      "Event 5\n",
      "- Person       : joel lee\n",
      "- Organization : seoul metropolitan\n",
      "- Place        : seoul\n",
      "\n"
     ]
    }
   ],
   "source": [
    "for i in event_list:\n",
    "    person, organization, place = extractNER(df_issue[df_issue['Event'] == i])\n",
    "    print(\"Event\", i)\n",
    "    print(\"- Person       :\", person)\n",
    "    print(\"- Organization :\", organization)\n",
    "    print(\"- Place        :\", place)\n",
    "    print(\"\")"
   ]
  },
  {
   "cell_type": "code",
   "execution_count": 57,
   "metadata": {},
   "outputs": [
    {
     "name": "stdout",
     "output_type": "stream",
     "text": [
      "\n",
      "('thaad', 'defense ministry', 'china')\n",
      "('chang', 'ioc', 'seoul')\n",
      "('obama', 'foreign ministry', 'china')\n",
      "('trump', 'pyongyang', 'china')\n",
      "('kim jong un', 'pyongyang', 'seoul')\n",
      "('trump', 'pyongyang', 'china')\n",
      "\n",
      "('kim jong un', 'pyongyang', 'north')\n",
      "('kim jong un', 'pyongyang', 'north')\n",
      "('gen', 'navy', 'u.s.')\n",
      "('gen', 'defense ministry', 'u.s.')\n",
      "('kim jong un', 'pyongyang', 'north')\n",
      "('han min koo', 'defense ministry', 'seoul')\n",
      "\n",
      "('choi', 'park  s', 'choi')\n",
      "('lee', 'national assembly', 'seoul')\n",
      "('president park geun hye', 'saenuri party', 'seoul')\n",
      "('lee', 'supreme court', 'seoul')\n",
      "('lee', 'national assembly', 'seoul')\n",
      "('president park geun hye', 'national assembly', 'seoul')\n",
      "\n",
      "('president park geun hye', 'singapore', 'russia')\n",
      "('joel lee', 'asean', 'korea')\n",
      "('president park geun hye', 'world bank', 'china')\n",
      "('president park geun hye', 'asean', 'seoul')\n",
      "('president park geun hye', 'asean', 'seoul')\n",
      "('our', 'eu', 'korea')\n",
      "\n",
      "('president park geun hye', 'foreign ministry', 'japan')\n",
      "('trump', 'seoul high court', 'washington')\n",
      "('humidifier disinfectants', 'ministry of agriculture', 'seoul')\n",
      "('abe', 'seoul  s foreign ministry', 'japan')\n",
      "('mers', 'health ministry', 'middle east')\n",
      "('abe', 'foreign ministry', 'japan')\n",
      "\n",
      "('lee', 'supreme court', 'seoul')\n",
      "('lee', 'vx', 'seoul')\n",
      "('lippert', 'foreign ministry', 'seoul')\n",
      "('kim jong un', 'coast guard', 'seoul')\n",
      "('lee', 'coast guard', 'seoul')\n",
      "('lee', 'defense ministry', 'seoul')\n",
      "\n",
      "('lee', 'environment ministry', 'seoul')\n",
      "('president park geun hye', 'national assembly', 'seoul')\n",
      "('president park geun hye', 'defense ministry', 'seoul')\n",
      "('hwang', 'national assembly', 'seoul')\n",
      "('lee', 'supreme court', 'seoul')\n",
      "('jae in', 'environment ministry', 'seoul')\n",
      "\n",
      "('kim jong un', 'dprk', 'north')\n",
      "('rohingya', 'un', 'seoul')\n",
      "('kh', 'justice ministry', 'china')\n",
      "('kim jong un', 'congress', 'north')\n",
      "('kim jong un', 'pyongyang', 'north')\n",
      "('trump', 'un', 'u.s.')\n",
      "\n",
      "('lee', 'asean', 'korea')\n",
      "('lee', 'singapore', 'seoul')\n",
      "('ock hyun ju  laeticia', 'oecd', 'korea')\n",
      "('lee', 'incheon international airport', 'seoul')\n",
      "('lee', 'health ministry', 'korea')\n",
      "('joel lee', 'seoul metropolitan', 'seoul')\n"
     ]
    }
   ],
   "source": [
    "for i in issue_list:\n",
    "    df_issue = df[df['Issue'] == i]\n",
    "    print(\"\")\n",
    "    for j in event_list:\n",
    "        print(extractNER(df_issue[df_issue['Event'] == j]))"
   ]
  },
  {
   "cell_type": "code",
   "execution_count": null,
   "metadata": {},
   "outputs": [],
   "source": []
  }
 ],
 "metadata": {
  "kernelspec": {
   "display_name": "Python 3",
   "language": "python",
   "name": "python3"
  },
  "language_info": {
   "codemirror_mode": {
    "name": "ipython",
    "version": 3
   },
   "file_extension": ".py",
   "mimetype": "text/x-python",
   "name": "python",
   "nbconvert_exporter": "python",
   "pygments_lexer": "ipython3",
   "version": "3.6.9"
  }
 },
 "nbformat": 4,
 "nbformat_minor": 2
}
