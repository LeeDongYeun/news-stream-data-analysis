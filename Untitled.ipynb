{
 "cells": [
  {
   "cell_type": "code",
   "execution_count": 1,
   "metadata": {},
   "outputs": [],
   "source": [
    "import os\n",
    "import json\n",
    "import re\n",
    "import string\n",
    "import pandas as pd\n",
    "import nltk\n",
    "from nltk import word_tokenize\n",
    "from nltk.stem import WordNetLemmatizer\n",
    "from nltk.corpus import stopwords\n",
    "from sklearn.feature_extraction.text import CountVectorizer, TfidfVectorizer"
   ]
  },
  {
   "cell_type": "code",
   "execution_count": 2,
   "metadata": {},
   "outputs": [],
   "source": [
    "def text_process(text):\n",
    "    #number removal\n",
    "    body = re.sub(r'\\d+', '', text)\n",
    "    \n",
    "    #punctuation removal i.e. [!”#$%&’()*+,-./:;<=>?@[\\]^_`{|}~]\n",
    "    punc = string.punctuation\n",
    "    punc = re.sub(\"-\",\"\", punc)\n",
    "    body = body.translate(body.maketrans(punc, \"                               \"))\n",
    "    \n",
    "    #stopwort removal\n",
    "    stopset = set(stopwords.words('english'))\n",
    "    text = word_tokenize(body.lower())\n",
    "    text = [x for x in text if x not in stopset]\n",
    "    \n",
    "    #lemmatization\n",
    "    lemmatizer = WordNetLemmatizer()\n",
    "    lemma_text = [lemmatizer.lemmatize(x) for x in text]\n",
    "    \n",
    "    return lemma_text"
   ]
  },
  {
   "cell_type": "code",
   "execution_count": 3,
   "metadata": {},
   "outputs": [],
   "source": [
    "path = 'Data/'"
   ]
  },
  {
   "cell_type": "code",
   "execution_count": 4,
   "metadata": {},
   "outputs": [],
   "source": [
    "datapaths = os.listdir(path)"
   ]
  },
  {
   "cell_type": "code",
   "execution_count": 5,
   "metadata": {},
   "outputs": [],
   "source": [
    "with open(path + datapaths[0], 'r') as f:\n",
    "    data = json.load(f)\n",
    "\n",
    "df = pd.DataFrame.from_dict(data)"
   ]
  },
  {
   "cell_type": "code",
   "execution_count": 6,
   "metadata": {},
   "outputs": [
    {
     "data": {
      "text/html": [
       "<div>\n",
       "<style scoped>\n",
       "    .dataframe tbody tr th:only-of-type {\n",
       "        vertical-align: middle;\n",
       "    }\n",
       "\n",
       "    .dataframe tbody tr th {\n",
       "        vertical-align: top;\n",
       "    }\n",
       "\n",
       "    .dataframe thead th {\n",
       "        text-align: right;\n",
       "    }\n",
       "</style>\n",
       "<table border=\"1\" class=\"dataframe\">\n",
       "  <thead>\n",
       "    <tr style=\"text-align: right;\">\n",
       "      <th></th>\n",
       "      <th>title</th>\n",
       "      <th>author</th>\n",
       "      <th>time</th>\n",
       "      <th>description</th>\n",
       "      <th>body</th>\n",
       "      <th>section</th>\n",
       "    </tr>\n",
       "  </thead>\n",
       "  <tbody>\n",
       "    <tr>\n",
       "      <th>0</th>\n",
       "      <td>A snapshot of multiculturalism in South Korea</td>\n",
       "      <td>Lee Sun-young</td>\n",
       "      <td>2018-01-01 17:07:00</td>\n",
       "      <td>With birthrates persistently low and the senio...</td>\n",
       "      <td>With birthrates persistently low and the senio...</td>\n",
       "      <td>Social affairs</td>\n",
       "    </tr>\n",
       "    <tr>\n",
       "      <th>1</th>\n",
       "      <td>[Weekender] Korea’s dynamic 2017</td>\n",
       "      <td>Choi He-suk</td>\n",
       "      <td>2018-01-01 13:22:00</td>\n",
       "      <td>From North Korea’s nuclear weapons program nea...</td>\n",
       "      <td>From North Korea’s nuclear weapons program nea...</td>\n",
       "      <td>Social affairs</td>\n",
       "    </tr>\n",
       "    <tr>\n",
       "      <th>2</th>\n",
       "      <td>People's Party members support Ahn's push for ...</td>\n",
       "      <td>Yonhap</td>\n",
       "      <td>2017-12-31 16:18:00</td>\n",
       "      <td>The leader of the center-left People's Party g...</td>\n",
       "      <td>The leader of the center-left People's Party g...</td>\n",
       "      <td>Politics</td>\n",
       "    </tr>\n",
       "    <tr>\n",
       "      <th>3</th>\n",
       "      <td>[Newsmaker] Panamanian vessel probed over susp...</td>\n",
       "      <td>Yonhap</td>\n",
       "      <td>2017-12-31 14:55:00</td>\n",
       "      <td>PYEONGTAEK  -- South Korea has seized and insp...</td>\n",
       "      <td>PYEONGTAEK  -- South Korea has seized and insp...</td>\n",
       "      <td>North Korea</td>\n",
       "    </tr>\n",
       "    <tr>\n",
       "      <th>4</th>\n",
       "      <td>Hong Kong ship crew questioned in S. Korea for...</td>\n",
       "      <td>AFP</td>\n",
       "      <td>2017-12-30 15:44:00</td>\n",
       "      <td>The crew of a Hong Kong-registered ship have b...</td>\n",
       "      <td>The crew of a Hong Kong-registered ship have b...</td>\n",
       "      <td>North Korea</td>\n",
       "    </tr>\n",
       "    <tr>\n",
       "      <th>...</th>\n",
       "      <td>...</td>\n",
       "      <td>...</td>\n",
       "      <td>...</td>\n",
       "      <td>...</td>\n",
       "      <td>...</td>\n",
       "      <td>...</td>\n",
       "    </tr>\n",
       "    <tr>\n",
       "      <th>2995</th>\n",
       "      <td>Eyes on validity of Samsung merger</td>\n",
       "      <td>Bak Se-hwan</td>\n",
       "      <td>2017-08-27 16:38:00</td>\n",
       "      <td>Following the conviction of Samsung Group heir...</td>\n",
       "      <td>Following the conviction of Samsung Group heir...</td>\n",
       "      <td>Social affairs</td>\n",
       "    </tr>\n",
       "    <tr>\n",
       "      <th>2996</th>\n",
       "      <td>Number of visitors to overpass-turned-park top...</td>\n",
       "      <td>Yonhap</td>\n",
       "      <td>2017-08-27 16:14:00</td>\n",
       "      <td>The number of visitors to the overpass-turned-...</td>\n",
       "      <td>The number of visitors to the overpass-turned-...</td>\n",
       "      <td>Social affairs</td>\n",
       "    </tr>\n",
       "    <tr>\n",
       "      <th>2997</th>\n",
       "      <td>N. Korean propaganda leaflets on ‘missile succ...</td>\n",
       "      <td>Kim Min-joo</td>\n",
       "      <td>2017-08-27 16:01:00</td>\n",
       "      <td>Propaganda leaflets, presumably distributed by...</td>\n",
       "      <td>Propaganda leaflets, presumably distributed by...</td>\n",
       "      <td>North Korea</td>\n",
       "    </tr>\n",
       "    <tr>\n",
       "      <th>2998</th>\n",
       "      <td>Row over smoking indoors ends in attempted murder</td>\n",
       "      <td>Kim Min-joo</td>\n",
       "      <td>2017-08-27 15:58:00</td>\n",
       "      <td>A 51-year-old man has been sentenced to three ...</td>\n",
       "      <td>A 51-year-old man has been sentenced to three ...</td>\n",
       "      <td>Social affairs</td>\n",
       "    </tr>\n",
       "    <tr>\n",
       "      <th>2999</th>\n",
       "      <td>[Newsmaker] Ahn elected new People's Party leader</td>\n",
       "      <td>Yonhap</td>\n",
       "      <td>2017-08-27 15:47:00</td>\n",
       "      <td>Ahn Cheol-soo, the former presidential candida...</td>\n",
       "      <td>Ahn Cheol-soo, the former presidential candida...</td>\n",
       "      <td>Politics</td>\n",
       "    </tr>\n",
       "  </tbody>\n",
       "</table>\n",
       "<p>3000 rows × 6 columns</p>\n",
       "</div>"
      ],
      "text/plain": [
       "                                                  title         author  \\\n",
       "0         A snapshot of multiculturalism in South Korea  Lee Sun-young   \n",
       "1                      [Weekender] Korea’s dynamic 2017    Choi He-suk   \n",
       "2     People's Party members support Ahn's push for ...         Yonhap   \n",
       "3     [Newsmaker] Panamanian vessel probed over susp...         Yonhap   \n",
       "4     Hong Kong ship crew questioned in S. Korea for...            AFP   \n",
       "...                                                 ...            ...   \n",
       "2995                 Eyes on validity of Samsung merger    Bak Se-hwan   \n",
       "2996  Number of visitors to overpass-turned-park top...         Yonhap   \n",
       "2997  N. Korean propaganda leaflets on ‘missile succ...    Kim Min-joo   \n",
       "2998  Row over smoking indoors ends in attempted murder    Kim Min-joo   \n",
       "2999  [Newsmaker] Ahn elected new People's Party leader         Yonhap   \n",
       "\n",
       "                     time                                        description  \\\n",
       "0     2018-01-01 17:07:00  With birthrates persistently low and the senio...   \n",
       "1     2018-01-01 13:22:00  From North Korea’s nuclear weapons program nea...   \n",
       "2     2017-12-31 16:18:00  The leader of the center-left People's Party g...   \n",
       "3     2017-12-31 14:55:00  PYEONGTAEK  -- South Korea has seized and insp...   \n",
       "4     2017-12-30 15:44:00  The crew of a Hong Kong-registered ship have b...   \n",
       "...                   ...                                                ...   \n",
       "2995  2017-08-27 16:38:00  Following the conviction of Samsung Group heir...   \n",
       "2996  2017-08-27 16:14:00  The number of visitors to the overpass-turned-...   \n",
       "2997  2017-08-27 16:01:00  Propaganda leaflets, presumably distributed by...   \n",
       "2998  2017-08-27 15:58:00  A 51-year-old man has been sentenced to three ...   \n",
       "2999  2017-08-27 15:47:00  Ahn Cheol-soo, the former presidential candida...   \n",
       "\n",
       "                                                   body         section  \n",
       "0     With birthrates persistently low and the senio...  Social affairs  \n",
       "1     From North Korea’s nuclear weapons program nea...  Social affairs  \n",
       "2     The leader of the center-left People's Party g...        Politics  \n",
       "3     PYEONGTAEK  -- South Korea has seized and insp...     North Korea  \n",
       "4     The crew of a Hong Kong-registered ship have b...     North Korea  \n",
       "...                                                 ...             ...  \n",
       "2995  Following the conviction of Samsung Group heir...  Social affairs  \n",
       "2996  The number of visitors to the overpass-turned-...  Social affairs  \n",
       "2997  Propaganda leaflets, presumably distributed by...     North Korea  \n",
       "2998  A 51-year-old man has been sentenced to three ...  Social affairs  \n",
       "2999  Ahn Cheol-soo, the former presidential candida...        Politics  \n",
       "\n",
       "[3000 rows x 6 columns]"
      ]
     },
     "execution_count": 6,
     "metadata": {},
     "output_type": "execute_result"
    }
   ],
   "source": [
    "df"
   ]
  },
  {
   "cell_type": "code",
   "execution_count": 7,
   "metadata": {},
   "outputs": [
    {
     "data": {
      "text/plain": [
       "Index(['title', ' author', ' time', ' description', ' body', ' section'], dtype='object')"
      ]
     },
     "execution_count": 7,
     "metadata": {},
     "output_type": "execute_result"
    }
   ],
   "source": [
    "df.keys()"
   ]
  },
  {
   "cell_type": "code",
   "execution_count": 8,
   "metadata": {},
   "outputs": [
    {
     "data": {
      "text/plain": [
       "array(['Social affairs', 'Politics', 'North Korea', 'Defense',\n",
       "       'Foreign Policy', 'Education', 'National', 'International',\n",
       "       'Diplomatic Circuit', 'Foreign  Affairs', 'Science', '',\n",
       "       '사용안함 - Diplomatic Circuit'], dtype=object)"
      ]
     },
     "execution_count": 8,
     "metadata": {},
     "output_type": "execute_result"
    }
   ],
   "source": [
    "df[' section'].unique()"
   ]
  },
  {
   "cell_type": "code",
   "execution_count": 9,
   "metadata": {},
   "outputs": [],
   "source": [
    "body = df.iloc[2][' body']"
   ]
  },
  {
   "cell_type": "code",
   "execution_count": 10,
   "metadata": {},
   "outputs": [
    {
     "data": {
      "text/plain": [
       "'The leader of the center-left People\\'s Party garnered overwhelming support from its members for his push for a merger with a minor conservative party, the party announced Sunday.The election committee of the party said 74.6 percent of members who participated in last week\\'s internal vote supported Ahn Cheol-soo and his proposal to unite the country\\'s third-largest party with the center-right Bareun Party.\\xa0The poll was conducted from Wednesday to Saturday via phone and online. Turnout was 23 percent, with 59,911 out of a total 260,437 members taking part in the vote. The panel said 25.4 percent opposed Ahn.\\xa0 Ahn Cheol-soo at a press conference Sunday following the People\\'s Party vote results (Yonhap)Ahn on Dec. 20 proposed the vote on the merger aimed at beefing up the centrist forces ahead of local elections slated for next June. Ahn had pledged to resign if he lost the vote.\\xa0After the announcement, the former presidential candidate vowed to push for the merger swiftly.\\xa0\"I received overwhelming support from the members of the People\\'s Party,\" Ahn said in a news conference.\\xa0\"I will accept the party members\\' will expressed in the vote as their aspiration for change. I will look no other way and will move forward on the path of integration,\" he said.Ahn\\'s rivals in the party called the vote invalid, citing low turnout. They said Ahn failed to win the vote and should step down as he promised.\"This is a clear indication of a vote of nonconfidence for Ahn,\" a group of 18 lawmakers said in a press conference. They launched their own group to oust Ahn and block what they called a conservative collusion.\\xa0The dissenters are largely based in the southwestern region, which has been traditionally opposed to rightist politicians. A merger with the conservative Bareun Party would dent their prospects in future elections, including the June gubernatorial and mayoral elections.\\xa0\\xa0The lower turnout is far below the quorum of a third of members required by the party constitution to determine crucial issues, such as a merger with other parties.\\xa0The poll led by Ahn\\'s faction was not directly about the merger plan but questioned whether or not the respondents support Ahn who pushes for the merger.Ahn\\'s side pointed out that the voter ratio was close to the 24.26 percent turnout of the last party election in August, in which Ahn was picked chairman.\\xa0\\xa0\\xa0\\xa0\\xa0Earlier in the day, a man barged into the party\\'s headquarters and attacked Rep. Lee Dong-seop, chief of the election committee, when he was announcing the vote result. The man kicked the podium with his leg and got into a tussle with party officials. He was taken into police custody later.\\xa0\\xa0The integration of the two parties has been seen as a strategy to combine the centrist political force to counterbalance the two major parties -- the ruling Democratic Party with 121 seats and the main opposition Liberty Korea Party with 116 seats in the 299-member National Assembly.The People\\'s Party holds 39 seats, while the Bareun Party has11 lawmakers. (Yonhap)'"
      ]
     },
     "execution_count": 10,
     "metadata": {},
     "output_type": "execute_result"
    }
   ],
   "source": [
    "body"
   ]
  },
  {
   "cell_type": "code",
   "execution_count": 11,
   "metadata": {},
   "outputs": [],
   "source": [
    "body = re.sub(r'\\d+', '', body)"
   ]
  },
  {
   "cell_type": "code",
   "execution_count": 12,
   "metadata": {},
   "outputs": [
    {
     "data": {
      "text/plain": [
       "'The leader of the center-left People\\'s Party garnered overwhelming support from its members for his push for a merger with a minor conservative party, the party announced Sunday.The election committee of the party said . percent of members who participated in last week\\'s internal vote supported Ahn Cheol-soo and his proposal to unite the country\\'s third-largest party with the center-right Bareun Party.\\xa0The poll was conducted from Wednesday to Saturday via phone and online. Turnout was  percent, with , out of a total , members taking part in the vote. The panel said . percent opposed Ahn.\\xa0 Ahn Cheol-soo at a press conference Sunday following the People\\'s Party vote results (Yonhap)Ahn on Dec.  proposed the vote on the merger aimed at beefing up the centrist forces ahead of local elections slated for next June. Ahn had pledged to resign if he lost the vote.\\xa0After the announcement, the former presidential candidate vowed to push for the merger swiftly.\\xa0\"I received overwhelming support from the members of the People\\'s Party,\" Ahn said in a news conference.\\xa0\"I will accept the party members\\' will expressed in the vote as their aspiration for change. I will look no other way and will move forward on the path of integration,\" he said.Ahn\\'s rivals in the party called the vote invalid, citing low turnout. They said Ahn failed to win the vote and should step down as he promised.\"This is a clear indication of a vote of nonconfidence for Ahn,\" a group of  lawmakers said in a press conference. They launched their own group to oust Ahn and block what they called a conservative collusion.\\xa0The dissenters are largely based in the southwestern region, which has been traditionally opposed to rightist politicians. A merger with the conservative Bareun Party would dent their prospects in future elections, including the June gubernatorial and mayoral elections.\\xa0\\xa0The lower turnout is far below the quorum of a third of members required by the party constitution to determine crucial issues, such as a merger with other parties.\\xa0The poll led by Ahn\\'s faction was not directly about the merger plan but questioned whether or not the respondents support Ahn who pushes for the merger.Ahn\\'s side pointed out that the voter ratio was close to the . percent turnout of the last party election in August, in which Ahn was picked chairman.\\xa0\\xa0\\xa0\\xa0\\xa0Earlier in the day, a man barged into the party\\'s headquarters and attacked Rep. Lee Dong-seop, chief of the election committee, when he was announcing the vote result. The man kicked the podium with his leg and got into a tussle with party officials. He was taken into police custody later.\\xa0\\xa0The integration of the two parties has been seen as a strategy to combine the centrist political force to counterbalance the two major parties -- the ruling Democratic Party with  seats and the main opposition Liberty Korea Party with  seats in the -member National Assembly.The People\\'s Party holds  seats, while the Bareun Party has lawmakers. (Yonhap)'"
      ]
     },
     "execution_count": 12,
     "metadata": {},
     "output_type": "execute_result"
    }
   ],
   "source": [
    "body"
   ]
  },
  {
   "cell_type": "code",
   "execution_count": 13,
   "metadata": {},
   "outputs": [],
   "source": [
    "bodyd = body.translate(body.maketrans(string.punctuation, \"                                \"))"
   ]
  },
  {
   "cell_type": "code",
   "execution_count": 14,
   "metadata": {},
   "outputs": [],
   "source": [
    "punc = string.punctuation\n",
    "punc.replace('-', '')\n",
    "bodyc = body.translate(body.maketrans(punc, \"                                \"))"
   ]
  },
  {
   "cell_type": "code",
   "execution_count": 15,
   "metadata": {},
   "outputs": [
    {
     "data": {
      "text/plain": [
       "32"
      ]
     },
     "execution_count": 15,
     "metadata": {},
     "output_type": "execute_result"
    }
   ],
   "source": [
    "len(punc)"
   ]
  },
  {
   "cell_type": "code",
   "execution_count": 16,
   "metadata": {},
   "outputs": [
    {
     "data": {
      "text/plain": [
       "'The leader of the center left People s Party garnered overwhelming support from its members for his push for a merger with a minor conservative party  the party announced Sunday The election committee of the party said   percent of members who participated in last week s internal vote supported Ahn Cheol soo and his proposal to unite the country s third largest party with the center right Bareun Party \\xa0The poll was conducted from Wednesday to Saturday via phone and online  Turnout was  percent  with   out of a total   members taking part in the vote  The panel said   percent opposed Ahn \\xa0 Ahn Cheol soo at a press conference Sunday following the People s Party vote results  Yonhap Ahn on Dec   proposed the vote on the merger aimed at beefing up the centrist forces ahead of local elections slated for next June  Ahn had pledged to resign if he lost the vote \\xa0After the announcement  the former presidential candidate vowed to push for the merger swiftly \\xa0 I received overwhelming support from the members of the People s Party   Ahn said in a news conference \\xa0 I will accept the party members  will expressed in the vote as their aspiration for change  I will look no other way and will move forward on the path of integration   he said Ahn s rivals in the party called the vote invalid  citing low turnout  They said Ahn failed to win the vote and should step down as he promised  This is a clear indication of a vote of nonconfidence for Ahn   a group of  lawmakers said in a press conference  They launched their own group to oust Ahn and block what they called a conservative collusion \\xa0The dissenters are largely based in the southwestern region  which has been traditionally opposed to rightist politicians  A merger with the conservative Bareun Party would dent their prospects in future elections  including the June gubernatorial and mayoral elections \\xa0\\xa0The lower turnout is far below the quorum of a third of members required by the party constitution to determine crucial issues  such as a merger with other parties \\xa0The poll led by Ahn s faction was not directly about the merger plan but questioned whether or not the respondents support Ahn who pushes for the merger Ahn s side pointed out that the voter ratio was close to the   percent turnout of the last party election in August  in which Ahn was picked chairman \\xa0\\xa0\\xa0\\xa0\\xa0Earlier in the day  a man barged into the party s headquarters and attacked Rep  Lee Dong seop  chief of the election committee  when he was announcing the vote result  The man kicked the podium with his leg and got into a tussle with party officials  He was taken into police custody later \\xa0\\xa0The integration of the two parties has been seen as a strategy to combine the centrist political force to counterbalance the two major parties    the ruling Democratic Party with  seats and the main opposition Liberty Korea Party with  seats in the  member National Assembly The People s Party holds  seats  while the Bareun Party has lawmakers   Yonhap '"
      ]
     },
     "execution_count": 16,
     "metadata": {},
     "output_type": "execute_result"
    }
   ],
   "source": [
    "bodyc"
   ]
  },
  {
   "cell_type": "code",
   "execution_count": 17,
   "metadata": {},
   "outputs": [
    {
     "data": {
      "text/plain": [
       "'!\"#$%&\\'()*+,-./:;<=>?@[\\\\]^_`{|}~'"
      ]
     },
     "execution_count": 17,
     "metadata": {},
     "output_type": "execute_result"
    }
   ],
   "source": [
    "string.punctuation"
   ]
  },
  {
   "cell_type": "code",
   "execution_count": 18,
   "metadata": {},
   "outputs": [],
   "source": [
    "a = set(stopwords.words('english'))"
   ]
  },
  {
   "cell_type": "code",
   "execution_count": 19,
   "metadata": {},
   "outputs": [],
   "source": [
    "text = word_tokenize(bodyd.lower())\n",
    "text = [x for x in text if x not in a]"
   ]
  },
  {
   "cell_type": "code",
   "execution_count": 20,
   "metadata": {},
   "outputs": [
    {
     "name": "stdout",
     "output_type": "stream",
     "text": [
      "['leader', 'center', 'left', 'people', 'party', 'garnered', 'overwhelming', 'support', 'members', 'push', 'merger', 'minor', 'conservative', 'party', 'party', 'announced', 'sunday', 'election', 'committee', 'party', 'said', 'percent', 'members', 'participated', 'last', 'week', 'internal', 'vote', 'supported', 'ahn', 'cheol', 'soo', 'proposal', 'unite', 'country', 'third', 'largest', 'party', 'center', 'right', 'bareun', 'party', 'poll', 'conducted', 'wednesday', 'saturday', 'via', 'phone', 'online', 'turnout', 'percent', 'total', 'members', 'taking', 'part', 'vote', 'panel', 'said', 'percent', 'opposed', 'ahn', 'ahn', 'cheol', 'soo', 'press', 'conference', 'sunday', 'following', 'people', 'party', 'vote', 'results', 'yonhap', 'ahn', 'dec', 'proposed', 'vote', 'merger', 'aimed', 'beefing', 'centrist', 'forces', 'ahead', 'local', 'elections', 'slated', 'next', 'june', 'ahn', 'pledged', 'resign', 'lost', 'vote', 'announcement', 'former', 'presidential', 'candidate', 'vowed', 'push', 'merger', 'swiftly', 'received', 'overwhelming', 'support', 'members', 'people', 'party', 'ahn', 'said', 'news', 'conference', 'accept', 'party', 'members', 'expressed', 'vote', 'aspiration', 'change', 'look', 'way', 'move', 'forward', 'path', 'integration', 'said', 'ahn', 'rivals', 'party', 'called', 'vote', 'invalid', 'citing', 'low', 'turnout', 'said', 'ahn', 'failed', 'win', 'vote', 'step', 'promised', 'clear', 'indication', 'vote', 'nonconfidence', 'ahn', 'group', 'lawmakers', 'said', 'press', 'conference', 'launched', 'group', 'oust', 'ahn', 'block', 'called', 'conservative', 'collusion', 'dissenters', 'largely', 'based', 'southwestern', 'region', 'traditionally', 'opposed', 'rightist', 'politicians', 'merger', 'conservative', 'bareun', 'party', 'would', 'dent', 'prospects', 'future', 'elections', 'including', 'june', 'gubernatorial', 'mayoral', 'elections', 'lower', 'turnout', 'far', 'quorum', 'third', 'members', 'required', 'party', 'constitution', 'determine', 'crucial', 'issues', 'merger', 'parties', 'poll', 'led', 'ahn', 'faction', 'directly', 'merger', 'plan', 'questioned', 'whether', 'respondents', 'support', 'ahn', 'pushes', 'merger', 'ahn', 'side', 'pointed', 'voter', 'ratio', 'close', 'percent', 'turnout', 'last', 'party', 'election', 'august', 'ahn', 'picked', 'chairman', 'earlier', 'day', 'man', 'barged', 'party', 'headquarters', 'attacked', 'rep', 'lee', 'dong', 'seop', 'chief', 'election', 'committee', 'announcing', 'vote', 'result', 'man', 'kicked', 'podium', 'leg', 'got', 'tussle', 'party', 'officials', 'taken', 'police', 'custody', 'later', 'integration', 'two', 'parties', 'seen', 'strategy', 'combine', 'centrist', 'political', 'force', 'counterbalance', 'two', 'major', 'parties', 'ruling', 'democratic', 'party', 'seats', 'main', 'opposition', 'liberty', 'korea', 'party', 'seats', 'member', 'national', 'assembly', 'people', 'party', 'holds', 'seats', 'bareun', 'party', 'lawmakers', 'yonhap']\n"
     ]
    }
   ],
   "source": [
    "print(text)"
   ]
  },
  {
   "cell_type": "code",
   "execution_count": 21,
   "metadata": {},
   "outputs": [],
   "source": [
    "lemmatizer = WordNetLemmatizer()"
   ]
  },
  {
   "cell_type": "code",
   "execution_count": 22,
   "metadata": {},
   "outputs": [],
   "source": [
    "lemma_text = [lemmatizer.lemmatize(x) for x in text]"
   ]
  },
  {
   "cell_type": "code",
   "execution_count": 23,
   "metadata": {},
   "outputs": [
    {
     "name": "stdout",
     "output_type": "stream",
     "text": [
      "['leader', 'center', 'left', 'people', 'party', 'garnered', 'overwhelming', 'support', 'member', 'push', 'merger', 'minor', 'conservative', 'party', 'party', 'announced', 'sunday', 'election', 'committee', 'party', 'said', 'percent', 'member', 'participated', 'last', 'week', 'internal', 'vote', 'supported', 'ahn', 'cheol', 'soo', 'proposal', 'unite', 'country', 'third', 'largest', 'party', 'center', 'right', 'bareun', 'party', 'poll', 'conducted', 'wednesday', 'saturday', 'via', 'phone', 'online', 'turnout', 'percent', 'total', 'member', 'taking', 'part', 'vote', 'panel', 'said', 'percent', 'opposed', 'ahn', 'ahn', 'cheol', 'soo', 'press', 'conference', 'sunday', 'following', 'people', 'party', 'vote', 'result', 'yonhap', 'ahn', 'dec', 'proposed', 'vote', 'merger', 'aimed', 'beefing', 'centrist', 'force', 'ahead', 'local', 'election', 'slated', 'next', 'june', 'ahn', 'pledged', 'resign', 'lost', 'vote', 'announcement', 'former', 'presidential', 'candidate', 'vowed', 'push', 'merger', 'swiftly', 'received', 'overwhelming', 'support', 'member', 'people', 'party', 'ahn', 'said', 'news', 'conference', 'accept', 'party', 'member', 'expressed', 'vote', 'aspiration', 'change', 'look', 'way', 'move', 'forward', 'path', 'integration', 'said', 'ahn', 'rival', 'party', 'called', 'vote', 'invalid', 'citing', 'low', 'turnout', 'said', 'ahn', 'failed', 'win', 'vote', 'step', 'promised', 'clear', 'indication', 'vote', 'nonconfidence', 'ahn', 'group', 'lawmaker', 'said', 'press', 'conference', 'launched', 'group', 'oust', 'ahn', 'block', 'called', 'conservative', 'collusion', 'dissenter', 'largely', 'based', 'southwestern', 'region', 'traditionally', 'opposed', 'rightist', 'politician', 'merger', 'conservative', 'bareun', 'party', 'would', 'dent', 'prospect', 'future', 'election', 'including', 'june', 'gubernatorial', 'mayoral', 'election', 'lower', 'turnout', 'far', 'quorum', 'third', 'member', 'required', 'party', 'constitution', 'determine', 'crucial', 'issue', 'merger', 'party', 'poll', 'led', 'ahn', 'faction', 'directly', 'merger', 'plan', 'questioned', 'whether', 'respondent', 'support', 'ahn', 'push', 'merger', 'ahn', 'side', 'pointed', 'voter', 'ratio', 'close', 'percent', 'turnout', 'last', 'party', 'election', 'august', 'ahn', 'picked', 'chairman', 'earlier', 'day', 'man', 'barged', 'party', 'headquarters', 'attacked', 'rep', 'lee', 'dong', 'seop', 'chief', 'election', 'committee', 'announcing', 'vote', 'result', 'man', 'kicked', 'podium', 'leg', 'got', 'tussle', 'party', 'official', 'taken', 'police', 'custody', 'later', 'integration', 'two', 'party', 'seen', 'strategy', 'combine', 'centrist', 'political', 'force', 'counterbalance', 'two', 'major', 'party', 'ruling', 'democratic', 'party', 'seat', 'main', 'opposition', 'liberty', 'korea', 'party', 'seat', 'member', 'national', 'assembly', 'people', 'party', 'hold', 'seat', 'bareun', 'party', 'lawmaker', 'yonhap']\n"
     ]
    }
   ],
   "source": [
    "print(lemma_text)"
   ]
  },
  {
   "cell_type": "code",
   "execution_count": 24,
   "metadata": {},
   "outputs": [
    {
     "data": {
      "text/plain": [
       "\"The leader of the center-left People's Party garnered overwhelming support from its members for his push for a merger with a minor conservative party, the party announced Sunday.The election committee of the party said 74.6 percent of members who participated in last week's internal vote supported Ahn Cheol-soo and his proposal to unite the country's third-largest party with the center-right Bareun Party.\\xa0The poll w...\""
      ]
     },
     "execution_count": 24,
     "metadata": {},
     "output_type": "execute_result"
    }
   ],
   "source": [
    "df.iloc[2][' description']"
   ]
  },
  {
   "cell_type": "code",
   "execution_count": 25,
   "metadata": {},
   "outputs": [],
   "source": [
    "vectorizer1 = CountVectorizer()\n",
    "vectorizer2 = TfidfVectorizer()"
   ]
  },
  {
   "cell_type": "code",
   "execution_count": 26,
   "metadata": {},
   "outputs": [],
   "source": [
    "corpus = df[' body']"
   ]
  },
  {
   "cell_type": "code",
   "execution_count": 32,
   "metadata": {},
   "outputs": [],
   "source": [
    "tf = vectorizer1.fit_transform(corpus)\n",
    "tf_idf = vectorizer2.fit_transform(corpus)"
   ]
  },
  {
   "cell_type": "code",
   "execution_count": 33,
   "metadata": {},
   "outputs": [],
   "source": [
    "tf = tf.toarray()\n",
    "tf_idf = tf_idf.toarray()"
   ]
  },
  {
   "cell_type": "code",
   "execution_count": 34,
   "metadata": {},
   "outputs": [],
   "source": [
    "features = vectorizer1.get_feature_names()"
   ]
  },
  {
   "cell_type": "code",
   "execution_count": 35,
   "metadata": {},
   "outputs": [],
   "source": [
    "tf_dataFrame = pd.DataFrame(tf, columns=features)\n",
    "tf_idf_dataFrane = pd.DataFrame(tf_idf, columns=features)"
   ]
  },
  {
   "cell_type": "code",
   "execution_count": 36,
   "metadata": {},
   "outputs": [
    {
     "data": {
      "text/html": [
       "<div>\n",
       "<style scoped>\n",
       "    .dataframe tbody tr th:only-of-type {\n",
       "        vertical-align: middle;\n",
       "    }\n",
       "\n",
       "    .dataframe tbody tr th {\n",
       "        vertical-align: top;\n",
       "    }\n",
       "\n",
       "    .dataframe thead th {\n",
       "        text-align: right;\n",
       "    }\n",
       "</style>\n",
       "<table border=\"1\" class=\"dataframe\">\n",
       "  <thead>\n",
       "    <tr style=\"text-align: right;\">\n",
       "      <th></th>\n",
       "      <th>00</th>\n",
       "      <th>000</th>\n",
       "      <th>0000</th>\n",
       "      <th>000km</th>\n",
       "      <th>000lbs</th>\n",
       "      <th>001</th>\n",
       "      <th>002</th>\n",
       "      <th>003</th>\n",
       "      <th>004</th>\n",
       "      <th>005</th>\n",
       "      <th>...</th>\n",
       "      <th>zoroastrians</th>\n",
       "      <th>zubin</th>\n",
       "      <th>zuckerberg</th>\n",
       "      <th>가능합니다</th>\n",
       "      <th>관리예산처</th>\n",
       "      <th>미국무부</th>\n",
       "      <th>사진</th>\n",
       "      <th>생략</th>\n",
       "      <th>여기부터</th>\n",
       "      <th>연합뉴스</th>\n",
       "    </tr>\n",
       "  </thead>\n",
       "  <tbody>\n",
       "    <tr>\n",
       "      <th>0</th>\n",
       "      <td>0</td>\n",
       "      <td>4</td>\n",
       "      <td>0</td>\n",
       "      <td>0</td>\n",
       "      <td>0</td>\n",
       "      <td>0</td>\n",
       "      <td>0</td>\n",
       "      <td>0</td>\n",
       "      <td>0</td>\n",
       "      <td>0</td>\n",
       "      <td>...</td>\n",
       "      <td>0</td>\n",
       "      <td>0</td>\n",
       "      <td>0</td>\n",
       "      <td>0</td>\n",
       "      <td>0</td>\n",
       "      <td>0</td>\n",
       "      <td>0</td>\n",
       "      <td>0</td>\n",
       "      <td>0</td>\n",
       "      <td>0</td>\n",
       "    </tr>\n",
       "    <tr>\n",
       "      <th>1</th>\n",
       "      <td>0</td>\n",
       "      <td>0</td>\n",
       "      <td>0</td>\n",
       "      <td>0</td>\n",
       "      <td>0</td>\n",
       "      <td>0</td>\n",
       "      <td>0</td>\n",
       "      <td>0</td>\n",
       "      <td>0</td>\n",
       "      <td>0</td>\n",
       "      <td>...</td>\n",
       "      <td>0</td>\n",
       "      <td>0</td>\n",
       "      <td>0</td>\n",
       "      <td>0</td>\n",
       "      <td>0</td>\n",
       "      <td>0</td>\n",
       "      <td>0</td>\n",
       "      <td>0</td>\n",
       "      <td>0</td>\n",
       "      <td>0</td>\n",
       "    </tr>\n",
       "    <tr>\n",
       "      <th>2</th>\n",
       "      <td>0</td>\n",
       "      <td>0</td>\n",
       "      <td>0</td>\n",
       "      <td>0</td>\n",
       "      <td>0</td>\n",
       "      <td>0</td>\n",
       "      <td>0</td>\n",
       "      <td>0</td>\n",
       "      <td>0</td>\n",
       "      <td>0</td>\n",
       "      <td>...</td>\n",
       "      <td>0</td>\n",
       "      <td>0</td>\n",
       "      <td>0</td>\n",
       "      <td>0</td>\n",
       "      <td>0</td>\n",
       "      <td>0</td>\n",
       "      <td>0</td>\n",
       "      <td>0</td>\n",
       "      <td>0</td>\n",
       "      <td>0</td>\n",
       "    </tr>\n",
       "    <tr>\n",
       "      <th>3</th>\n",
       "      <td>0</td>\n",
       "      <td>0</td>\n",
       "      <td>0</td>\n",
       "      <td>0</td>\n",
       "      <td>0</td>\n",
       "      <td>0</td>\n",
       "      <td>0</td>\n",
       "      <td>0</td>\n",
       "      <td>0</td>\n",
       "      <td>0</td>\n",
       "      <td>...</td>\n",
       "      <td>0</td>\n",
       "      <td>0</td>\n",
       "      <td>0</td>\n",
       "      <td>0</td>\n",
       "      <td>0</td>\n",
       "      <td>0</td>\n",
       "      <td>0</td>\n",
       "      <td>0</td>\n",
       "      <td>0</td>\n",
       "      <td>0</td>\n",
       "    </tr>\n",
       "    <tr>\n",
       "      <th>4</th>\n",
       "      <td>0</td>\n",
       "      <td>1</td>\n",
       "      <td>0</td>\n",
       "      <td>0</td>\n",
       "      <td>0</td>\n",
       "      <td>0</td>\n",
       "      <td>0</td>\n",
       "      <td>0</td>\n",
       "      <td>0</td>\n",
       "      <td>0</td>\n",
       "      <td>...</td>\n",
       "      <td>0</td>\n",
       "      <td>0</td>\n",
       "      <td>0</td>\n",
       "      <td>0</td>\n",
       "      <td>0</td>\n",
       "      <td>0</td>\n",
       "      <td>0</td>\n",
       "      <td>0</td>\n",
       "      <td>0</td>\n",
       "      <td>0</td>\n",
       "    </tr>\n",
       "    <tr>\n",
       "      <th>...</th>\n",
       "      <td>...</td>\n",
       "      <td>...</td>\n",
       "      <td>...</td>\n",
       "      <td>...</td>\n",
       "      <td>...</td>\n",
       "      <td>...</td>\n",
       "      <td>...</td>\n",
       "      <td>...</td>\n",
       "      <td>...</td>\n",
       "      <td>...</td>\n",
       "      <td>...</td>\n",
       "      <td>...</td>\n",
       "      <td>...</td>\n",
       "      <td>...</td>\n",
       "      <td>...</td>\n",
       "      <td>...</td>\n",
       "      <td>...</td>\n",
       "      <td>...</td>\n",
       "      <td>...</td>\n",
       "      <td>...</td>\n",
       "      <td>...</td>\n",
       "    </tr>\n",
       "    <tr>\n",
       "      <th>2995</th>\n",
       "      <td>0</td>\n",
       "      <td>0</td>\n",
       "      <td>0</td>\n",
       "      <td>0</td>\n",
       "      <td>0</td>\n",
       "      <td>0</td>\n",
       "      <td>0</td>\n",
       "      <td>0</td>\n",
       "      <td>0</td>\n",
       "      <td>0</td>\n",
       "      <td>...</td>\n",
       "      <td>0</td>\n",
       "      <td>0</td>\n",
       "      <td>0</td>\n",
       "      <td>0</td>\n",
       "      <td>0</td>\n",
       "      <td>0</td>\n",
       "      <td>0</td>\n",
       "      <td>0</td>\n",
       "      <td>0</td>\n",
       "      <td>0</td>\n",
       "    </tr>\n",
       "    <tr>\n",
       "      <th>2996</th>\n",
       "      <td>0</td>\n",
       "      <td>2</td>\n",
       "      <td>0</td>\n",
       "      <td>0</td>\n",
       "      <td>0</td>\n",
       "      <td>0</td>\n",
       "      <td>0</td>\n",
       "      <td>0</td>\n",
       "      <td>0</td>\n",
       "      <td>0</td>\n",
       "      <td>...</td>\n",
       "      <td>0</td>\n",
       "      <td>0</td>\n",
       "      <td>0</td>\n",
       "      <td>0</td>\n",
       "      <td>0</td>\n",
       "      <td>0</td>\n",
       "      <td>0</td>\n",
       "      <td>0</td>\n",
       "      <td>0</td>\n",
       "      <td>0</td>\n",
       "    </tr>\n",
       "    <tr>\n",
       "      <th>2997</th>\n",
       "      <td>0</td>\n",
       "      <td>1</td>\n",
       "      <td>0</td>\n",
       "      <td>0</td>\n",
       "      <td>0</td>\n",
       "      <td>0</td>\n",
       "      <td>0</td>\n",
       "      <td>0</td>\n",
       "      <td>0</td>\n",
       "      <td>0</td>\n",
       "      <td>...</td>\n",
       "      <td>0</td>\n",
       "      <td>0</td>\n",
       "      <td>0</td>\n",
       "      <td>0</td>\n",
       "      <td>0</td>\n",
       "      <td>0</td>\n",
       "      <td>0</td>\n",
       "      <td>0</td>\n",
       "      <td>0</td>\n",
       "      <td>0</td>\n",
       "    </tr>\n",
       "    <tr>\n",
       "      <th>2998</th>\n",
       "      <td>0</td>\n",
       "      <td>0</td>\n",
       "      <td>0</td>\n",
       "      <td>0</td>\n",
       "      <td>0</td>\n",
       "      <td>0</td>\n",
       "      <td>0</td>\n",
       "      <td>0</td>\n",
       "      <td>0</td>\n",
       "      <td>0</td>\n",
       "      <td>...</td>\n",
       "      <td>0</td>\n",
       "      <td>0</td>\n",
       "      <td>0</td>\n",
       "      <td>0</td>\n",
       "      <td>0</td>\n",
       "      <td>0</td>\n",
       "      <td>0</td>\n",
       "      <td>0</td>\n",
       "      <td>0</td>\n",
       "      <td>0</td>\n",
       "    </tr>\n",
       "    <tr>\n",
       "      <th>2999</th>\n",
       "      <td>0</td>\n",
       "      <td>0</td>\n",
       "      <td>0</td>\n",
       "      <td>0</td>\n",
       "      <td>0</td>\n",
       "      <td>0</td>\n",
       "      <td>0</td>\n",
       "      <td>0</td>\n",
       "      <td>0</td>\n",
       "      <td>0</td>\n",
       "      <td>...</td>\n",
       "      <td>0</td>\n",
       "      <td>0</td>\n",
       "      <td>0</td>\n",
       "      <td>0</td>\n",
       "      <td>0</td>\n",
       "      <td>0</td>\n",
       "      <td>0</td>\n",
       "      <td>0</td>\n",
       "      <td>0</td>\n",
       "      <td>0</td>\n",
       "    </tr>\n",
       "  </tbody>\n",
       "</table>\n",
       "<p>3000 rows × 23822 columns</p>\n",
       "</div>"
      ],
      "text/plain": [
       "      00  000  0000  000km  000lbs  001  002  003  004  005  ...  \\\n",
       "0      0    4     0      0       0    0    0    0    0    0  ...   \n",
       "1      0    0     0      0       0    0    0    0    0    0  ...   \n",
       "2      0    0     0      0       0    0    0    0    0    0  ...   \n",
       "3      0    0     0      0       0    0    0    0    0    0  ...   \n",
       "4      0    1     0      0       0    0    0    0    0    0  ...   \n",
       "...   ..  ...   ...    ...     ...  ...  ...  ...  ...  ...  ...   \n",
       "2995   0    0     0      0       0    0    0    0    0    0  ...   \n",
       "2996   0    2     0      0       0    0    0    0    0    0  ...   \n",
       "2997   0    1     0      0       0    0    0    0    0    0  ...   \n",
       "2998   0    0     0      0       0    0    0    0    0    0  ...   \n",
       "2999   0    0     0      0       0    0    0    0    0    0  ...   \n",
       "\n",
       "      zoroastrians  zubin  zuckerberg  가능합니다  관리예산처  미국무부  사진  생략  여기부터  연합뉴스  \n",
       "0                0      0           0      0      0     0   0   0     0     0  \n",
       "1                0      0           0      0      0     0   0   0     0     0  \n",
       "2                0      0           0      0      0     0   0   0     0     0  \n",
       "3                0      0           0      0      0     0   0   0     0     0  \n",
       "4                0      0           0      0      0     0   0   0     0     0  \n",
       "...            ...    ...         ...    ...    ...   ...  ..  ..   ...   ...  \n",
       "2995             0      0           0      0      0     0   0   0     0     0  \n",
       "2996             0      0           0      0      0     0   0   0     0     0  \n",
       "2997             0      0           0      0      0     0   0   0     0     0  \n",
       "2998             0      0           0      0      0     0   0   0     0     0  \n",
       "2999             0      0           0      0      0     0   0   0     0     0  \n",
       "\n",
       "[3000 rows x 23822 columns]"
      ]
     },
     "execution_count": 36,
     "metadata": {},
     "output_type": "execute_result"
    }
   ],
   "source": [
    "tf_dataFrame"
   ]
  },
  {
   "cell_type": "code",
   "execution_count": 37,
   "metadata": {},
   "outputs": [],
   "source": [
    "a = tf_dataFrame.sum()"
   ]
  },
  {
   "cell_type": "code",
   "execution_count": 38,
   "metadata": {},
   "outputs": [],
   "source": [
    "b= pd.DataFrame(a)"
   ]
  },
  {
   "cell_type": "code",
   "execution_count": 39,
   "metadata": {},
   "outputs": [
    {
     "data": {
      "text/html": [
       "<div>\n",
       "<style scoped>\n",
       "    .dataframe tbody tr th:only-of-type {\n",
       "        vertical-align: middle;\n",
       "    }\n",
       "\n",
       "    .dataframe tbody tr th {\n",
       "        vertical-align: top;\n",
       "    }\n",
       "\n",
       "    .dataframe thead th {\n",
       "        text-align: right;\n",
       "    }\n",
       "</style>\n",
       "<table border=\"1\" class=\"dataframe\">\n",
       "  <thead>\n",
       "    <tr style=\"text-align: right;\">\n",
       "      <th></th>\n",
       "      <th>0</th>\n",
       "    </tr>\n",
       "  </thead>\n",
       "  <tbody>\n",
       "    <tr>\n",
       "      <th>the</th>\n",
       "      <td>76432</td>\n",
       "    </tr>\n",
       "    <tr>\n",
       "      <th>to</th>\n",
       "      <td>32411</td>\n",
       "    </tr>\n",
       "    <tr>\n",
       "      <th>of</th>\n",
       "      <td>29024</td>\n",
       "    </tr>\n",
       "    <tr>\n",
       "      <th>and</th>\n",
       "      <td>24879</td>\n",
       "    </tr>\n",
       "    <tr>\n",
       "      <th>in</th>\n",
       "      <td>23155</td>\n",
       "    </tr>\n",
       "    <tr>\n",
       "      <th>korea</th>\n",
       "      <td>11796</td>\n",
       "    </tr>\n",
       "    <tr>\n",
       "      <th>on</th>\n",
       "      <td>11640</td>\n",
       "    </tr>\n",
       "    <tr>\n",
       "      <th>north</th>\n",
       "      <td>10556</td>\n",
       "    </tr>\n",
       "    <tr>\n",
       "      <th>that</th>\n",
       "      <td>10334</td>\n",
       "    </tr>\n",
       "    <tr>\n",
       "      <th>for</th>\n",
       "      <td>10075</td>\n",
       "    </tr>\n",
       "    <tr>\n",
       "      <th>said</th>\n",
       "      <td>9519</td>\n",
       "    </tr>\n",
       "    <tr>\n",
       "      <th>is</th>\n",
       "      <td>7829</td>\n",
       "    </tr>\n",
       "    <tr>\n",
       "      <th>with</th>\n",
       "      <td>7722</td>\n",
       "    </tr>\n",
       "    <tr>\n",
       "      <th>as</th>\n",
       "      <td>6742</td>\n",
       "    </tr>\n",
       "    <tr>\n",
       "      <th>it</th>\n",
       "      <td>6340</td>\n",
       "    </tr>\n",
       "    <tr>\n",
       "      <th>south</th>\n",
       "      <td>6310</td>\n",
       "    </tr>\n",
       "    <tr>\n",
       "      <th>by</th>\n",
       "      <td>5904</td>\n",
       "    </tr>\n",
       "    <tr>\n",
       "      <th>korean</th>\n",
       "      <td>5872</td>\n",
       "    </tr>\n",
       "    <tr>\n",
       "      <th>at</th>\n",
       "      <td>5851</td>\n",
       "    </tr>\n",
       "    <tr>\n",
       "      <th>from</th>\n",
       "      <td>5342</td>\n",
       "    </tr>\n",
       "    <tr>\n",
       "      <th>us</th>\n",
       "      <td>4945</td>\n",
       "    </tr>\n",
       "    <tr>\n",
       "      <th>was</th>\n",
       "      <td>4927</td>\n",
       "    </tr>\n",
       "    <tr>\n",
       "      <th>its</th>\n",
       "      <td>4918</td>\n",
       "    </tr>\n",
       "    <tr>\n",
       "      <th>will</th>\n",
       "      <td>4754</td>\n",
       "    </tr>\n",
       "    <tr>\n",
       "      <th>he</th>\n",
       "      <td>4699</td>\n",
       "    </tr>\n",
       "    <tr>\n",
       "      <th>has</th>\n",
       "      <td>4653</td>\n",
       "    </tr>\n",
       "    <tr>\n",
       "      <th>yonhap</th>\n",
       "      <td>4468</td>\n",
       "    </tr>\n",
       "    <tr>\n",
       "      <th>an</th>\n",
       "      <td>4244</td>\n",
       "    </tr>\n",
       "    <tr>\n",
       "      <th>be</th>\n",
       "      <td>4207</td>\n",
       "    </tr>\n",
       "    <tr>\n",
       "      <th>nuclear</th>\n",
       "      <td>3917</td>\n",
       "    </tr>\n",
       "    <tr>\n",
       "      <th>his</th>\n",
       "      <td>3882</td>\n",
       "    </tr>\n",
       "    <tr>\n",
       "      <th>have</th>\n",
       "      <td>3622</td>\n",
       "    </tr>\n",
       "    <tr>\n",
       "      <th>seoul</th>\n",
       "      <td>3618</td>\n",
       "    </tr>\n",
       "    <tr>\n",
       "      <th>president</th>\n",
       "      <td>3585</td>\n",
       "    </tr>\n",
       "    <tr>\n",
       "      <th>also</th>\n",
       "      <td>3367</td>\n",
       "    </tr>\n",
       "    <tr>\n",
       "      <th>are</th>\n",
       "      <td>3362</td>\n",
       "    </tr>\n",
       "    <tr>\n",
       "      <th>moon</th>\n",
       "      <td>2845</td>\n",
       "    </tr>\n",
       "    <tr>\n",
       "      <th>not</th>\n",
       "      <td>2747</td>\n",
       "    </tr>\n",
       "    <tr>\n",
       "      <th>their</th>\n",
       "      <td>2681</td>\n",
       "    </tr>\n",
       "    <tr>\n",
       "      <th>missile</th>\n",
       "      <td>2651</td>\n",
       "    </tr>\n",
       "    <tr>\n",
       "      <th>party</th>\n",
       "      <td>2621</td>\n",
       "    </tr>\n",
       "    <tr>\n",
       "      <th>government</th>\n",
       "      <td>2619</td>\n",
       "    </tr>\n",
       "    <tr>\n",
       "      <th>kim</th>\n",
       "      <td>2589</td>\n",
       "    </tr>\n",
       "    <tr>\n",
       "      <th>two</th>\n",
       "      <td>2513</td>\n",
       "    </tr>\n",
       "    <tr>\n",
       "      <th>year</th>\n",
       "      <td>2443</td>\n",
       "    </tr>\n",
       "    <tr>\n",
       "      <th>but</th>\n",
       "      <td>2397</td>\n",
       "    </tr>\n",
       "    <tr>\n",
       "      <th>they</th>\n",
       "      <td>2362</td>\n",
       "    </tr>\n",
       "    <tr>\n",
       "      <th>we</th>\n",
       "      <td>2323</td>\n",
       "    </tr>\n",
       "    <tr>\n",
       "      <th>been</th>\n",
       "      <td>2311</td>\n",
       "    </tr>\n",
       "    <tr>\n",
       "      <th>this</th>\n",
       "      <td>2308</td>\n",
       "    </tr>\n",
       "    <tr>\n",
       "      <th>over</th>\n",
       "      <td>2289</td>\n",
       "    </tr>\n",
       "    <tr>\n",
       "      <th>after</th>\n",
       "      <td>2185</td>\n",
       "    </tr>\n",
       "    <tr>\n",
       "      <th>which</th>\n",
       "      <td>2178</td>\n",
       "    </tr>\n",
       "    <tr>\n",
       "      <th>ministry</th>\n",
       "      <td>2120</td>\n",
       "    </tr>\n",
       "    <tr>\n",
       "      <th>military</th>\n",
       "      <td>2035</td>\n",
       "    </tr>\n",
       "    <tr>\n",
       "      <th>trump</th>\n",
       "      <td>1987</td>\n",
       "    </tr>\n",
       "    <tr>\n",
       "      <th>park</th>\n",
       "      <td>1904</td>\n",
       "    </tr>\n",
       "    <tr>\n",
       "      <th>were</th>\n",
       "      <td>1896</td>\n",
       "    </tr>\n",
       "    <tr>\n",
       "      <th>who</th>\n",
       "      <td>1868</td>\n",
       "    </tr>\n",
       "    <tr>\n",
       "      <th>during</th>\n",
       "      <td>1768</td>\n",
       "    </tr>\n",
       "  </tbody>\n",
       "</table>\n",
       "</div>"
      ],
      "text/plain": [
       "                0\n",
       "the         76432\n",
       "to          32411\n",
       "of          29024\n",
       "and         24879\n",
       "in          23155\n",
       "korea       11796\n",
       "on          11640\n",
       "north       10556\n",
       "that        10334\n",
       "for         10075\n",
       "said         9519\n",
       "is           7829\n",
       "with         7722\n",
       "as           6742\n",
       "it           6340\n",
       "south        6310\n",
       "by           5904\n",
       "korean       5872\n",
       "at           5851\n",
       "from         5342\n",
       "us           4945\n",
       "was          4927\n",
       "its          4918\n",
       "will         4754\n",
       "he           4699\n",
       "has          4653\n",
       "yonhap       4468\n",
       "an           4244\n",
       "be           4207\n",
       "nuclear      3917\n",
       "his          3882\n",
       "have         3622\n",
       "seoul        3618\n",
       "president    3585\n",
       "also         3367\n",
       "are          3362\n",
       "moon         2845\n",
       "not          2747\n",
       "their        2681\n",
       "missile      2651\n",
       "party        2621\n",
       "government   2619\n",
       "kim          2589\n",
       "two          2513\n",
       "year         2443\n",
       "but          2397\n",
       "they         2362\n",
       "we           2323\n",
       "been         2311\n",
       "this         2308\n",
       "over         2289\n",
       "after        2185\n",
       "which        2178\n",
       "ministry     2120\n",
       "military     2035\n",
       "trump        1987\n",
       "park         1904\n",
       "were         1896\n",
       "who          1868\n",
       "during       1768"
      ]
     },
     "execution_count": 39,
     "metadata": {},
     "output_type": "execute_result"
    }
   ],
   "source": [
    "b.sort_values([0], ascending=[False]).head(60)"
   ]
  },
  {
   "cell_type": "code",
   "execution_count": 40,
   "metadata": {},
   "outputs": [
    {
     "data": {
      "text/html": [
       "<div>\n",
       "<style scoped>\n",
       "    .dataframe tbody tr th:only-of-type {\n",
       "        vertical-align: middle;\n",
       "    }\n",
       "\n",
       "    .dataframe tbody tr th {\n",
       "        vertical-align: top;\n",
       "    }\n",
       "\n",
       "    .dataframe thead th {\n",
       "        text-align: right;\n",
       "    }\n",
       "</style>\n",
       "<table border=\"1\" class=\"dataframe\">\n",
       "  <thead>\n",
       "    <tr style=\"text-align: right;\">\n",
       "      <th></th>\n",
       "      <th>0</th>\n",
       "    </tr>\n",
       "  </thead>\n",
       "  <tbody>\n",
       "    <tr>\n",
       "      <th>00</th>\n",
       "      <td>7</td>\n",
       "    </tr>\n",
       "    <tr>\n",
       "      <th>000</th>\n",
       "      <td>950</td>\n",
       "    </tr>\n",
       "    <tr>\n",
       "      <th>0000</th>\n",
       "      <td>1</td>\n",
       "    </tr>\n",
       "    <tr>\n",
       "      <th>000km</th>\n",
       "      <td>1</td>\n",
       "    </tr>\n",
       "    <tr>\n",
       "      <th>000lbs</th>\n",
       "      <td>1</td>\n",
       "    </tr>\n",
       "    <tr>\n",
       "      <th>...</th>\n",
       "      <td>...</td>\n",
       "    </tr>\n",
       "    <tr>\n",
       "      <th>미국무부</th>\n",
       "      <td>1</td>\n",
       "    </tr>\n",
       "    <tr>\n",
       "      <th>사진</th>\n",
       "      <td>1</td>\n",
       "    </tr>\n",
       "    <tr>\n",
       "      <th>생략</th>\n",
       "      <td>1</td>\n",
       "    </tr>\n",
       "    <tr>\n",
       "      <th>여기부터</th>\n",
       "      <td>1</td>\n",
       "    </tr>\n",
       "    <tr>\n",
       "      <th>연합뉴스</th>\n",
       "      <td>1</td>\n",
       "    </tr>\n",
       "  </tbody>\n",
       "</table>\n",
       "<p>23822 rows × 1 columns</p>\n",
       "</div>"
      ],
      "text/plain": [
       "          0\n",
       "00        7\n",
       "000     950\n",
       "0000      1\n",
       "000km     1\n",
       "000lbs    1\n",
       "...     ...\n",
       "미국무부      1\n",
       "사진        1\n",
       "생략        1\n",
       "여기부터      1\n",
       "연합뉴스      1\n",
       "\n",
       "[23822 rows x 1 columns]"
      ]
     },
     "execution_count": 40,
     "metadata": {},
     "output_type": "execute_result"
    }
   ],
   "source": [
    "b"
   ]
  },
  {
   "cell_type": "code",
   "execution_count": 41,
   "metadata": {},
   "outputs": [],
   "source": [
    "processed = text_process(body)"
   ]
  },
  {
   "cell_type": "code",
   "execution_count": 42,
   "metadata": {},
   "outputs": [
    {
     "data": {
      "text/plain": [
       "'leader center-left people party garnered overwhelming support member push merger minor conservative party party announced sunday election committee party said percent member participated last week internal vote supported ahn cheol-soo proposal unite country third-largest party center-right bareun party poll conducted wednesday saturday via phone online turnout percent total member taking part vote panel said percent opposed ahn ahn cheol-soo press conference sunday following people party vote result yonhap ahn dec proposed vote merger aimed beefing centrist force ahead local election slated next june ahn pledged resign lost vote announcement former presidential candidate vowed push merger swiftly received overwhelming support member people party ahn said news conference accept party member expressed vote aspiration change look way move forward path integration said ahn rival party called vote invalid citing low turnout said ahn failed win vote step promised clear indication vote nonconfidence ahn group lawmaker said press conference launched group oust ahn block called conservative collusion dissenter largely based southwestern region traditionally opposed rightist politician merger conservative bareun party would dent prospect future election including june gubernatorial mayoral election lower turnout far quorum third member required party constitution determine crucial issue merger party poll led ahn faction directly merger plan questioned whether respondent support ahn push merger ahn side pointed voter ratio close percent turnout last party election august ahn picked chairman earlier day man barged party headquarters attacked rep lee dong-seop chief election committee announcing vote result man kicked podium leg got tussle party official taken police custody later integration two party seen strategy combine centrist political force counterbalance two major party -- ruling democratic party seat main opposition liberty korea party seat -member national assembly people party hold seat bareun party lawmaker yonhap'"
      ]
     },
     "execution_count": 42,
     "metadata": {},
     "output_type": "execute_result"
    }
   ],
   "source": [
    "' '.join(processed)"
   ]
  },
  {
   "cell_type": "code",
   "execution_count": 43,
   "metadata": {},
   "outputs": [
    {
     "data": {
      "text/plain": [
       "'-'"
      ]
     },
     "execution_count": 43,
     "metadata": {},
     "output_type": "execute_result"
    }
   ],
   "source": [
    "string.punctuation[12]"
   ]
  },
  {
   "cell_type": "code",
   "execution_count": 44,
   "metadata": {},
   "outputs": [],
   "source": [
    "p = string.punctuation"
   ]
  },
  {
   "cell_type": "code",
   "execution_count": 45,
   "metadata": {},
   "outputs": [
    {
     "data": {
      "text/plain": [
       "'!\"#$%&\\'()*+,-./:;<=>?@[\\\\]^_`{|}~'"
      ]
     },
     "execution_count": 45,
     "metadata": {},
     "output_type": "execute_result"
    }
   ],
   "source": [
    "p"
   ]
  },
  {
   "cell_type": "code",
   "execution_count": 46,
   "metadata": {},
   "outputs": [
    {
     "data": {
      "text/plain": [
       "32"
      ]
     },
     "execution_count": 46,
     "metadata": {},
     "output_type": "execute_result"
    }
   ],
   "source": [
    "len(p)"
   ]
  },
  {
   "cell_type": "code",
   "execution_count": 47,
   "metadata": {},
   "outputs": [
    {
     "data": {
      "text/plain": [
       "31"
      ]
     },
     "execution_count": 47,
     "metadata": {},
     "output_type": "execute_result"
    }
   ],
   "source": [
    "len(re.sub(\"-\",\"\", p))"
   ]
  },
  {
   "cell_type": "code",
   "execution_count": 27,
   "metadata": {},
   "outputs": [],
   "source": [
    "df2 = pd.DataFrame(df[' body'].apply(lambda x: ' '.join(text_process(x))))"
   ]
  },
  {
   "cell_type": "code",
   "execution_count": 29,
   "metadata": {},
   "outputs": [
    {
     "data": {
      "text/plain": [
       "'north korea ’ nuclear weapon program nearing completion unprecedented impeachment president major earthquake year drawing close difficult one south korea corruption scandal broke led country ’ first impeachment president president park geun-hye ’ ouster march turn led closest ally arrested put trial host charge wake park ’ fall grace conservative split faction liberal president moon jae-in may presidential election moon ’ election sparked series event hinted sweeping change even limited time korean society yonhap moon quickly launched war “ accumulated ill ” new administration refers unfair practice condition society reform drive raised allegation wrongdoing going back lee myung-bak administration came office economic front moon ’ reform drive far resulted large minimum wage hike higher tax highest earning company individual fiercely resisted criticized conservative bloc eight month moon ’ presidency far also seen threat posed north korea rise new dimension sept north korea conducted sixth nuclear test claiming successfully developed hydrogen bomb north korea also conducted number intercontinental ballistic missile test starting may combination would imply pyongyang crossed “ red line ” moon drew north korea policy press conference marking th day office august moon stated north korea becoming capable building icbm tipped nuclear warhead would mean “ red line ” crossed year also saw south korea experience friction two largest trading partner -- china u trouble china began following park administration ’ decision deploy u terminal high altitude area defense anti-missile system decision deploy thaad prompted economic retaliation china dealing massive blow south korean company tourism industry although seoul-beijing relation thawed height tension two side yet narrow difference thaad beijing considers threat national security although much lesser scale seoul ’ trade relation u also hit rut korea-us free trade agreement u president donald trump termed “ horrible deal ” despite seoul ’ attempt avoid renegotiation trump administration pressed issue numerous occasion two side currently renegotiating deal year also saw major domestic issue unfold march ferry sewol raised seabed nearly three year sank country ’ west coast leaving people dead missing although vessel raised five passenger remain unaccounted magnitude earthquake shook port city pohang north gyeongsang province nov among many consequence quake led postponement annual university entrance exam first time history choi he-suk cheesuk heraldcorp com'"
      ]
     },
     "execution_count": 29,
     "metadata": {},
     "output_type": "execute_result"
    }
   ],
   "source": [
    "df2[' body'][1]"
   ]
  },
  {
   "cell_type": "code",
   "execution_count": 30,
   "metadata": {},
   "outputs": [],
   "source": [
    "vectorizer1 = CountVectorizer()\n",
    "vectorizer2 = TfidfVectorizer()\n",
    "\n",
    "corpus = df2[' body']\n",
    "\n",
    "tf = vectorizer1.fit_transform(corpus)\n",
    "tf_idf = vectorizer2.fit_transform(corpus)\n",
    "\n",
    "tf = tf.toarray()\n",
    "tf_idf = tf_idf.toarray()\n",
    "\n",
    "features = vectorizer1.get_feature_names()\n",
    "\n",
    "tf_dataFrame = pd.DataFrame(tf, columns=features)\n",
    "tf_idf_dataFrame = pd.DataFrame(tf_idf, columns=features)\n",
    "\n",
    "tf_dataFrame = tf_dataFrame.sum()\n",
    "tf_dataFrame = pd.DataFrame(tf_dataFrame)\n",
    "tf_dataFrame = tf_dataFrame.sort_values([0], ascending=[False])\n",
    "\n",
    "tf_idf_dataFrame = tf_idf_dataFrame.sum()\n",
    "tf_idf_dataFrame = pd.DataFrame(tf_idf_dataFrame)\n",
    "tf_idf_dataFrame = tf_idf_dataFrame.sort_values([0], ascending=[False])"
   ]
  },
  {
   "cell_type": "code",
   "execution_count": 31,
   "metadata": {},
   "outputs": [
    {
     "data": {
      "text/html": [
       "<div>\n",
       "<style scoped>\n",
       "    .dataframe tbody tr th:only-of-type {\n",
       "        vertical-align: middle;\n",
       "    }\n",
       "\n",
       "    .dataframe tbody tr th {\n",
       "        vertical-align: top;\n",
       "    }\n",
       "\n",
       "    .dataframe thead th {\n",
       "        text-align: right;\n",
       "    }\n",
       "</style>\n",
       "<table border=\"1\" class=\"dataframe\">\n",
       "  <thead>\n",
       "    <tr style=\"text-align: right;\">\n",
       "      <th></th>\n",
       "      <th>0</th>\n",
       "    </tr>\n",
       "  </thead>\n",
       "  <tbody>\n",
       "    <tr>\n",
       "      <th>korea</th>\n",
       "      <td>11929</td>\n",
       "    </tr>\n",
       "    <tr>\n",
       "      <th>north</th>\n",
       "      <td>10563</td>\n",
       "    </tr>\n",
       "    <tr>\n",
       "      <th>said</th>\n",
       "      <td>9519</td>\n",
       "    </tr>\n",
       "    <tr>\n",
       "      <th>korean</th>\n",
       "      <td>6316</td>\n",
       "    </tr>\n",
       "    <tr>\n",
       "      <th>south</th>\n",
       "      <td>6311</td>\n",
       "    </tr>\n",
       "    <tr>\n",
       "      <th>yonhap</th>\n",
       "      <td>4469</td>\n",
       "    </tr>\n",
       "    <tr>\n",
       "      <th>nuclear</th>\n",
       "      <td>3917</td>\n",
       "    </tr>\n",
       "    <tr>\n",
       "      <th>president</th>\n",
       "      <td>3637</td>\n",
       "    </tr>\n",
       "    <tr>\n",
       "      <th>seoul</th>\n",
       "      <td>3619</td>\n",
       "    </tr>\n",
       "    <tr>\n",
       "      <th>also</th>\n",
       "      <td>3367</td>\n",
       "    </tr>\n",
       "    <tr>\n",
       "      <th>year</th>\n",
       "      <td>3264</td>\n",
       "    </tr>\n",
       "    <tr>\n",
       "      <th>missile</th>\n",
       "      <td>3142</td>\n",
       "    </tr>\n",
       "    <tr>\n",
       "      <th>party</th>\n",
       "      <td>3016</td>\n",
       "    </tr>\n",
       "    <tr>\n",
       "      <th>country</th>\n",
       "      <td>2848</td>\n",
       "    </tr>\n",
       "    <tr>\n",
       "      <th>moon</th>\n",
       "      <td>2846</td>\n",
       "    </tr>\n",
       "    <tr>\n",
       "      <th>government</th>\n",
       "      <td>2766</td>\n",
       "    </tr>\n",
       "    <tr>\n",
       "      <th>kim</th>\n",
       "      <td>2589</td>\n",
       "    </tr>\n",
       "    <tr>\n",
       "      <th>two</th>\n",
       "      <td>2513</td>\n",
       "    </tr>\n",
       "    <tr>\n",
       "      <th>state</th>\n",
       "      <td>2332</td>\n",
       "    </tr>\n",
       "    <tr>\n",
       "      <th>official</th>\n",
       "      <td>2309</td>\n",
       "    </tr>\n",
       "  </tbody>\n",
       "</table>\n",
       "</div>"
      ],
      "text/plain": [
       "                0\n",
       "korea       11929\n",
       "north       10563\n",
       "said         9519\n",
       "korean       6316\n",
       "south        6311\n",
       "yonhap       4469\n",
       "nuclear      3917\n",
       "president    3637\n",
       "seoul        3619\n",
       "also         3367\n",
       "year         3264\n",
       "missile      3142\n",
       "party        3016\n",
       "country      2848\n",
       "moon         2846\n",
       "government   2766\n",
       "kim          2589\n",
       "two          2513\n",
       "state        2332\n",
       "official     2309"
      ]
     },
     "execution_count": 31,
     "metadata": {},
     "output_type": "execute_result"
    }
   ],
   "source": [
    "tf_dataFrame.head(20)"
   ]
  },
  {
   "cell_type": "code",
   "execution_count": 32,
   "metadata": {},
   "outputs": [
    {
     "data": {
      "text/html": [
       "<div>\n",
       "<style scoped>\n",
       "    .dataframe tbody tr th:only-of-type {\n",
       "        vertical-align: middle;\n",
       "    }\n",
       "\n",
       "    .dataframe tbody tr th {\n",
       "        vertical-align: top;\n",
       "    }\n",
       "\n",
       "    .dataframe thead th {\n",
       "        text-align: right;\n",
       "    }\n",
       "</style>\n",
       "<table border=\"1\" class=\"dataframe\">\n",
       "  <thead>\n",
       "    <tr style=\"text-align: right;\">\n",
       "      <th></th>\n",
       "      <th>0</th>\n",
       "    </tr>\n",
       "  </thead>\n",
       "  <tbody>\n",
       "    <tr>\n",
       "      <th>north</th>\n",
       "      <td>207.008265</td>\n",
       "    </tr>\n",
       "    <tr>\n",
       "      <th>korea</th>\n",
       "      <td>171.670365</td>\n",
       "    </tr>\n",
       "    <tr>\n",
       "      <th>said</th>\n",
       "      <td>126.993602</td>\n",
       "    </tr>\n",
       "    <tr>\n",
       "      <th>south</th>\n",
       "      <td>112.904488</td>\n",
       "    </tr>\n",
       "    <tr>\n",
       "      <th>korean</th>\n",
       "      <td>108.926694</td>\n",
       "    </tr>\n",
       "    <tr>\n",
       "      <th>nuclear</th>\n",
       "      <td>93.936904</td>\n",
       "    </tr>\n",
       "    <tr>\n",
       "      <th>party</th>\n",
       "      <td>84.883272</td>\n",
       "    </tr>\n",
       "    <tr>\n",
       "      <th>missile</th>\n",
       "      <td>79.691261</td>\n",
       "    </tr>\n",
       "    <tr>\n",
       "      <th>president</th>\n",
       "      <td>78.963778</td>\n",
       "    </tr>\n",
       "    <tr>\n",
       "      <th>moon</th>\n",
       "      <td>74.414715</td>\n",
       "    </tr>\n",
       "    <tr>\n",
       "      <th>yonhap</th>\n",
       "      <td>73.960467</td>\n",
       "    </tr>\n",
       "    <tr>\n",
       "      <th>seoul</th>\n",
       "      <td>67.858316</td>\n",
       "    </tr>\n",
       "    <tr>\n",
       "      <th>trump</th>\n",
       "      <td>66.214916</td>\n",
       "    </tr>\n",
       "    <tr>\n",
       "      <th>year</th>\n",
       "      <td>64.551719</td>\n",
       "    </tr>\n",
       "    <tr>\n",
       "      <th>kim</th>\n",
       "      <td>64.334384</td>\n",
       "    </tr>\n",
       "    <tr>\n",
       "      <th>ministry</th>\n",
       "      <td>63.311667</td>\n",
       "    </tr>\n",
       "    <tr>\n",
       "      <th>government</th>\n",
       "      <td>59.846715</td>\n",
       "    </tr>\n",
       "    <tr>\n",
       "      <th>country</th>\n",
       "      <td>59.085450</td>\n",
       "    </tr>\n",
       "    <tr>\n",
       "      <th>also</th>\n",
       "      <td>58.438056</td>\n",
       "    </tr>\n",
       "    <tr>\n",
       "      <th>military</th>\n",
       "      <td>56.056001</td>\n",
       "    </tr>\n",
       "  </tbody>\n",
       "</table>\n",
       "</div>"
      ],
      "text/plain": [
       "                     0\n",
       "north       207.008265\n",
       "korea       171.670365\n",
       "said        126.993602\n",
       "south       112.904488\n",
       "korean      108.926694\n",
       "nuclear      93.936904\n",
       "party        84.883272\n",
       "missile      79.691261\n",
       "president    78.963778\n",
       "moon         74.414715\n",
       "yonhap       73.960467\n",
       "seoul        67.858316\n",
       "trump        66.214916\n",
       "year         64.551719\n",
       "kim          64.334384\n",
       "ministry     63.311667\n",
       "government   59.846715\n",
       "country      59.085450\n",
       "also         58.438056\n",
       "military     56.056001"
      ]
     },
     "execution_count": 32,
     "metadata": {},
     "output_type": "execute_result"
    }
   ],
   "source": [
    "tf_idf_dataFrame.head(20)"
   ]
  },
  {
   "cell_type": "code",
   "execution_count": null,
   "metadata": {},
   "outputs": [],
   "source": []
  }
 ],
 "metadata": {
  "kernelspec": {
   "display_name": "Python 3",
   "language": "python",
   "name": "python3"
  },
  "language_info": {
   "codemirror_mode": {
    "name": "ipython",
    "version": 3
   },
   "file_extension": ".py",
   "mimetype": "text/x-python",
   "name": "python",
   "nbconvert_exporter": "python",
   "pygments_lexer": "ipython3",
   "version": "3.6.9"
  }
 },
 "nbformat": 4,
 "nbformat_minor": 2
}
